{
 "cells": [
  {
   "cell_type": "code",
   "execution_count": 3,
   "metadata": {},
   "outputs": [
    {
     "name": "stdout",
     "output_type": "stream",
     "text": [
      "The autoreload extension is already loaded. To reload it, use:\n",
      "  %reload_ext autoreload\n"
     ]
    }
   ],
   "source": [
    "import torch\n",
    "import torch.nn as nn\n",
    "from torch.utils.data import DataLoader, TensorDataset\n",
    "import torch.optim as optim\n",
    "import torch.nn.functional as F\n",
    "from torch.distributions.normal import Normal\n",
    "\n",
    "import os\n",
    "import numpy as np\n",
    "import matplotlib\n",
    "from matplotlib.colors import ListedColormap\n",
    "import matplotlib.lines as mlines\n",
    "import matplotlib.patches as mpatches\n",
    "import matplotlib.pyplot as plt\n",
    "from typing import List, Tuple, Callable, Union\n",
    "from tqdm import tqdm\n",
    "\n",
    "from robustabstain.archs.mininet import MiniNet\n",
    "from robustabstain.analysis.plotting.plot_revadv_synth import reinit_train_utils\n",
    "from robustabstain.analysis.plotting.utils.colors import ROBACC_COLORS\n",
    "from robustabstain.analysis.plotting.utils.decision_region import decision_region_plot_2Ddata\n",
    "from robustabstain.attacker.wrapper import AttackerWrapper\n",
    "from robustabstain.data.synth.datasets import SYNTH_DATASETS\n",
    "from robustabstain.data.synth.plot import plot_synth\n",
    "from robustabstain.eval.adv import empirical_robustness_eval, get_acc_rob_indicator\n",
    "from robustabstain.eval.cert import get_acc_cert_indicator\n",
    "from robustabstain.utils.args_factory import get_full_parser\n",
    "from robustabstain.utils.datasets import Synth\n",
    "from robustabstain.utils.checkpointing import get_net\n",
    "from robustabstain.utils.loaders import get_dataloader\n",
    "from robustabstain.train.train_adv import train_trades\n",
    "from robustabstain.train.train_revadv import train_revadv\n",
    "from robustabstain.train.train_std import train_std\n",
    "from robustabstain.train.train_gaussaugm import train_gaussaugm\n",
    "from robustabstain.train.train_revcert import train_revcert\n",
    "from robustabstain.utils.schedulers import get_lr_scheduler\n",
    "from robustabstain.utils.helpers import convert_floatstr\n",
    "from robustabstain.utils.paths import get_root_package_dir\n",
    "from robustabstain.utils.metrics import AverageMeter, accuracy\n",
    "\n",
    "device = 'cuda' if torch.cuda.is_available() else 'cpu'\n",
    "SEED = 43\n",
    "torch.manual_seed(SEED)\n",
    "\n",
    "%load_ext autoreload\n",
    "%autoreload 2\n",
    "%matplotlib inline\n",
    "\n",
    "import logging\n",
    "logger = logging.getLogger()\n",
    "logger.setLevel(logging.WARNING)\n",
    "\n",
    "SEED = 1\n",
    "def set_seed():\n",
    "    torch.manual_seed(SEED);\n",
    "    np.random.seed(SEED);\n",
    "    \n",
    "set_seed()"
   ]
  },
  {
   "cell_type": "code",
   "execution_count": 4,
   "metadata": {},
   "outputs": [
    {
     "data": {
      "image/png": "[encoded data removed]",
      "text/plain": [
       "<Figure size 432x288 with 1 Axes>"
      ]
     },
     "metadata": {
      "needs_background": "light"
     },
     "output_type": "display_data"
    }
   ],
   "source": [
    "parser = get_full_parser()\n",
    "dataset = 'threegauss' # the synthetic dataset\n",
    "train_eps = '0.1'\n",
    "noise_sd = '0.1'\n",
    "revadv_beta = '0.2'\n",
    "root_dir = get_root_package_dir()\n",
    "args = parser.parse_args([\n",
    "    \"--dataset\", dataset,\n",
    "    \"--epochs\", \"20\",\n",
    "    \"--adv-norm\", \"Linf\",\n",
    "    \"--train-batch\", \"10\",\n",
    "    \"--adv-norm\", \"Linf\",\n",
    "    \"--train-eps\", train_eps,\n",
    "    \"--n-train-samples\", \"1000\",\n",
    "    \"--arch\", \"mininet\",\n",
    "    \"--noise-sd\", noise_sd,\n",
    "    \"--smoothing-sigma\", noise_sd,\n",
    "    \"--num-noise-vec\", \"16\",\n",
    "    \"--revadv-beta\", revadv_beta,\n",
    "    \"--lr-sched\", \"trades\",\n",
    "    \"--test-att-n-steps\", \"100\"\n",
    "])\n",
    "\n",
    "set_seed()\n",
    "train_loader, val_loader, test_loader, _, _, num_classes = get_dataloader(\n",
    "    args, indexed=True, root_prefix='../', val_set_source='test', val_split=0.0, shuffle_train=True\n",
    ")\n",
    "model = get_net('mininet', dataset, 2, device, False, True)\n",
    "\n",
    "opt = optim.SGD(\n",
    "    model.parameters(), lr=0.01, momentum=args.momentum, weight_decay=args.weight_decay\n",
    ")\n",
    "lr_scheduler = get_lr_scheduler(args, args.lr_sched, opt)\n",
    "criterion = nn.CrossEntropyLoss()\n",
    "noise_sd = convert_floatstr(args.noise_sd)\n",
    "\n",
    "plot_synth(train_loader.dataset.data, train_loader.dataset.targets)"
   ]
  },
  {
   "cell_type": "markdown",
   "metadata": {},
   "source": [
    "# Utils"
   ]
  },
  {
   "cell_type": "code",
   "execution_count": 5,
   "metadata": {},
   "outputs": [],
   "source": [
    "def noise_loss(\n",
    "        model: nn.Module, inputs: torch.tensor, targets: torch.tensor,\n",
    "        noise_sd: float = 0.25, clamp_x: bool = True\n",
    "    ) -> torch.tensor:\n",
    "    \"\"\"Noise loss as used by Cohen et. al.\n",
    "    \"\"\"\n",
    "    inputs_noise = inputs + noise_sd * torch.randn_like(inputs)\n",
    "    if clamp_x:\n",
    "        inputs_noise = inputs_noise.clamp(0.0, 1.0)\n",
    "    outputs = model(inputs_noise)\n",
    "    loss = F.cross_entropy(outputs, targets)\n",
    "\n",
    "    return loss\n",
    "\n",
    "def abstain_loss(\n",
    "        model: nn.Module, inputs: torch.tensor, targets: torch.tensor, device: str,\n",
    "        num_noise_vec: int, num_classes: int, noise_sd: float, revadv_beta: float,\n",
    "        temp: float = 8.0, clamp_x: bool = True\n",
    "    ) -> torch.tensor:\n",
    "    \"\"\"Abstain loss for certified robustness with MACER loss.\n",
    "    \"\"\"\n",
    "    normal = Normal(torch.tensor([0.0]).to(device), torch.tensor([1.0]).to(device))\n",
    "\n",
    "    input_size = inputs.size(0)\n",
    "    new_shape = [input_size * num_noise_vec]\n",
    "    new_shape.extend(inputs[0].shape)\n",
    "    inputs_rep = inputs.repeat((1, num_noise_vec, 1, 1)).view(new_shape)\n",
    "    targets_rep = targets.unsqueeze(1).repeat(1, num_noise_vec).reshape(-1, 1).squeeze()\n",
    "    noise = torch.randn_like(inputs_rep, device=device) * noise_sd\n",
    "    noisy_inputs = inputs_rep + noise\n",
    "    if clamp_x:\n",
    "        noisy_inputs = noisy_inputs.clamp(0.0, 1.0)\n",
    "    \n",
    "    outputs = model(noisy_inputs)\n",
    "    outputs = outputs.reshape((input_size, num_noise_vec, num_classes))\n",
    "    outputs_softmax = F.softmax(outputs, dim=2).mean(1)\n",
    "    p_inacc = 1 - torch.gather(outputs_softmax, dim=1, index=targets.unsqueeze(1)).squeeze()\n",
    "    #p_inacc = 1 - torch.gather(outputs_softmax, dim=2, index=targets_rep.view(input_size, num_noise_vec, 1)).reshape(-1)\n",
    "    \n",
    "    # classification loss\n",
    "    classification_loss = F.cross_entropy(outputs.mean(1), targets, reduction='none')\n",
    "\n",
    "    # cert radius\n",
    "    beta_outputs = outputs * temp  # only apply temparature to the cert radius loss\n",
    "    beta_outputs_softmax = F.softmax(beta_outputs, dim=2).mean(1)\n",
    "    top2 = torch.topk(beta_outputs_softmax, 2)\n",
    "    top2_score, _ = top2\n",
    "    out0, out1 = top2_score[:, 0], top2_score[:, 1]\n",
    "    out0 -= 1e-6 # avoid nan (normal.icdf(1.0) = inf)\n",
    "    out1 += 1e-6 # avoid nan (normal.icdf(0.0) = -inf)\n",
    "    cert_radius = noise_sd/2 * (normal.icdf(out0) - normal.icdf(out1))\n",
    "\n",
    "    # Final objective\n",
    "    loss = p_inacc * cert_radius + revadv_beta * classification_loss\n",
    "\n",
    "    return loss.mean()\n",
    "\n",
    "def train_iter(args: object, model: torch.nn.Module, opt: torch.optim.Optimizer, epoch: int, revadv_beta: float = 1.0, temp: float = 8.0, loss_variant='abstain'):\n",
    "    noise_sd_float = convert_floatstr(args.noise_sd)\n",
    "    train_loss, nat_acc1 = AverageMeter(), AverageMeter()\n",
    "    pbar = tqdm(train_loader, dynamic_ncols=True)\n",
    "    for batch_idx, (inputs, targets, sample_indices) in enumerate(pbar):\n",
    "        inputs, targets = inputs.to(device), targets.to(device)\n",
    "        \n",
    "        model.eval()\n",
    "        nat_out = model(inputs)\n",
    "        model.train()\n",
    "        \n",
    "        if loss_variant == 'abstain':\n",
    "            loss = abstain_loss(model, inputs, targets, device, args.num_noise_vec, num_classes, noise_sd_float, revadv_beta, temp)\n",
    "        elif loss_variant == 'noise':\n",
    "            loss = noise_loss(model, inputs, targets, noise_sd_float)\n",
    "        elif loss_variant == 'std':\n",
    "            loss = F.cross_entropy(nat_out, targets, reduction='mean')\n",
    "        else:\n",
    "            raise ValueError(f'Error: invalid loss variant {loss_variant}')\n",
    "        \n",
    "        opt.zero_grad()\n",
    "        loss.backward()\n",
    "        opt.step()\n",
    "        \n",
    "        train_loss.update(loss.item(), inputs.size(0))\n",
    "        nat_accs, _ = accuracy(nat_out, targets, topk=(1,5))\n",
    "        nat_acc1.update(nat_accs[0], inputs.size(0))\n",
    "        \n",
    "        pbar.set_description(\n",
    "            '[T] ({}) epoch={}, loss={:.4f}, nat_acc1={:.4f}'.format(\n",
    "                loss_variant, epoch, train_loss.avg, nat_acc1.avg\n",
    "        ))"
   ]
  },
  {
   "cell_type": "code",
   "execution_count": 6,
   "metadata": {},
   "outputs": [],
   "source": [
    "def savefig(fig: plt.Figure, savepath: str = None):\n",
    "    fig.savefig(savepath + '.png', dpi=300, bbox_inches=\"tight\")\n",
    "    fig.savefig(savepath + '.pdf', bbox_inches=\"tight\")\n",
    "    \n",
    "def addticks(axs: Union[plt.Axes, List[plt.Axes]], step: float = 0.1) -> None:\n",
    "    if not isinstance(axs, list) and not isinstance(axs, np.ndarray):\n",
    "        axs = [axs]\n",
    "    for ax in axs:\n",
    "        ax.set_xticks(np.arange(0, 1.1, step=step))\n",
    "        ax.set_yticks(np.arange(0, 1.1, step=step))\n",
    "        if step >= 1.0:\n",
    "            ax.set_xlabel('x1', fontsize=14, labelpad=-4)\n",
    "            ax.set_ylabel('x2', fontsize=14, labelpad=-4)\n",
    "        else:\n",
    "            ax.set_xlabel('x1', fontsize=14, labelpad=4)\n",
    "            ax.set_ylabel('x2', fontsize=14, labelpad=4)\n",
    "    \n",
    "def rmticks(axs: Union[plt.Axes, List[plt.Axes]]) -> None:\n",
    "    if not isinstance(axs, list) and not isinstance(axs, np.ndarray):\n",
    "        axs = [axs]\n",
    "    for ax in axs:\n",
    "        ax.set_xticks([])\n",
    "        ax.set_yticks([])\n",
    "        ax.set_xlabel('x1', fontsize=14, labelpad=4)\n",
    "        ax.set_ylabel('x2', fontsize=14, labelpad=4)\n",
    "        \n",
    "def rmlegend(axs: Union[plt.Axes, List[plt.Axes]]) -> None:\n",
    "    if not isinstance(axs, list) and not isinstance(axs, np.ndarray):\n",
    "        axs = [axs]\n",
    "    for ax in axs:\n",
    "        ax.legend_ = None\n",
    "        \n",
    "def annotate_plot(\n",
    "        fig: plt.Figure, ax: plt.axes, rob_acc: float, rob_inacc: float,\n",
    "        savepath: str = None, selector: str = 'ERI', fontsize: int = 25,\n",
    "        ashift1: int = 0, ashift2: int = 0, rm_annos: bool = True,\n",
    "        yshift1: float = -0.3, yshift2: float = -0.45\n",
    "    ) -> Tuple[plt.Annotation, plt.Annotation]:\n",
    "    \"\"\"Annotate a decision region plot with abstain model metrics (robust coverage, robust accuracy).\n",
    "    \"\"\"\n",
    "    rob_coverage = round(rob_acc+rob_inacc, 2)\n",
    "    rob_accuracy = round(100*rob_acc/(rob_acc+rob_inacc), 2)\n",
    "    \n",
    "    # annotate metrics over two lines\n",
    "    anno_v1 = ax.annotate(\n",
    "        text=' '*ashift1 + f' $\\Phi_{{rob}}((F, S_{{{selector}}}), D) = {rob_coverage}\\%$',\n",
    "        xy=(0.5, yshift1), xycoords='axes fraction', fontsize=fontsize, ha='center'\n",
    "    )\n",
    "    anno_v2 = ax.annotate(\n",
    "        text=' '*ashift2 + f'$\\mathcal{{A}}_{{rob}}((F, S_{{{selector}}}), D) = {rob_accuracy}\\%$', \n",
    "        xy=(0.5, yshift2), xycoords='axes fraction', fontsize=fontsize, ha='center'\n",
    "    )\n",
    "    if savepath is not None:\n",
    "        savefig(fig, savepath + '_annov')\n",
    "    if rm_annos:\n",
    "        anno_v1.remove()\n",
    "        anno_v2.remove()\n",
    "\n",
    "    return anno_v1, anno_v2\n",
    "\n",
    "def colorblob_metric_legend(ax: plt.Axes, nat_acc: float, rob_acc: float, rob_inacc: float, yshift: float = -0.4) -> matplotlib.legend.Legend:\n",
    "    nonrob_acc = abs(round(nat_acc - rob_acc, 2))\n",
    "    nonrob_inacc = abs(round(100 - rob_acc - rob_inacc - nonrob_acc, 2))\n",
    "    \n",
    "    annos = [('ra', f\"{rob_acc}%\"), ('nra', f\"{nonrob_acc}%\"), ('ria', f\"{rob_inacc}%\"), ('nria', f\"{nonrob_inacc}%\")]\n",
    "    ax_leg = ax.legend(\n",
    "        [mpatches.Patch(color=ROBACC_COLORS[anno[0]]) for anno in annos],\n",
    "        [anno[1] for anno in annos],\n",
    "        loc='lower center', bbox_to_anchor=(0.5, yshift), prop={'size': 15}, ncol=2\n",
    "    )\n",
    "    return ax_leg\n",
    "\n",
    "def readd_class_legend(ax: plt.Axes) -> None:\n",
    "    markers = ['s', 'v', 'o']\n",
    "    patch_names = ['0', '1', '2']\n",
    "    class_leg0 = ax.legend(\n",
    "        [mlines.Line2D([], [], color='grey', marker=markers[i], linestyle='None', markersize=12) for i in range(3)],\n",
    "        patch_names, prop={'size': 14}, loc='upper left'\n",
    "    )"
   ]
  },
  {
   "cell_type": "code",
   "execution_count": 8,
   "metadata": {},
   "outputs": [],
   "source": [
    "opt = optim.SGD(model.parameters(), lr=0.01, momentum=args.momentum, weight_decay=args.weight_decay)\n",
    "lr_scheduler = get_lr_scheduler(args, args.lr_sched, opt)\n",
    "criterion = nn.CrossEntropyLoss()"
   ]
  },
  {
   "cell_type": "markdown",
   "metadata": {},
   "source": [
    "# Certified Robustness Abstain Training"
   ]
  },
  {
   "cell_type": "markdown",
   "metadata": {},
   "source": [
    "## Gaussian Noise Augmentation Training"
   ]
  },
  {
   "cell_type": "markdown",
   "metadata": {},
   "source": [
    "### Train the model using Gaussian noise augmentation training"
   ]
  },
  {
   "cell_type": "code",
   "execution_count": 9,
   "metadata": {},
   "outputs": [
    {
     "name": "stderr",
     "output_type": "stream",
     "text": [
      "[T] (noise) epoch=0, loss=0.3319, nat_acc1=85.9000: 100%|██████████| 100/100 [00:00<00:00, 140.87it/s]\n",
      "[T] (noise) epoch=1, loss=0.0756, nat_acc1=98.4000: 100%|██████████| 100/100 [00:00<00:00, 137.99it/s]\n",
      "[T] (noise) epoch=2, loss=0.1015, nat_acc1=98.4000: 100%|██████████| 100/100 [00:00<00:00, 139.77it/s]\n",
      "[T] (noise) epoch=3, loss=0.0742, nat_acc1=98.4000: 100%|██████████| 100/100 [00:00<00:00, 138.95it/s]\n",
      "[T] (noise) epoch=4, loss=0.0788, nat_acc1=98.4000: 100%|██████████| 100/100 [00:00<00:00, 140.14it/s]\n",
      "[T] (noise) epoch=5, loss=0.0707, nat_acc1=98.4000: 100%|██████████| 100/100 [00:00<00:00, 142.59it/s]\n",
      "[T] (noise) epoch=6, loss=0.0711, nat_acc1=98.4000: 100%|██████████| 100/100 [00:00<00:00, 145.36it/s]\n",
      "[T] (noise) epoch=7, loss=0.0703, nat_acc1=98.4000: 100%|██████████| 100/100 [00:00<00:00, 141.57it/s]\n",
      "[T] (noise) epoch=8, loss=0.0817, nat_acc1=98.4000: 100%|██████████| 100/100 [00:00<00:00, 136.82it/s]\n",
      "[T] (noise) epoch=9, loss=0.0621, nat_acc1=98.4000: 100%|██████████| 100/100 [00:00<00:00, 145.80it/s]\n",
      "[T] (noise) epoch=10, loss=0.0659, nat_acc1=98.4000: 100%|██████████| 100/100 [00:00<00:00, 143.56it/s]\n",
      "[T] (noise) epoch=11, loss=0.0742, nat_acc1=98.4000: 100%|██████████| 100/100 [00:00<00:00, 142.06it/s]\n",
      "[T] (noise) epoch=12, loss=0.0781, nat_acc1=98.4000: 100%|██████████| 100/100 [00:00<00:00, 145.97it/s]\n",
      "[T] (noise) epoch=13, loss=0.0851, nat_acc1=98.4000: 100%|██████████| 100/100 [00:00<00:00, 140.50it/s]\n",
      "[T] (noise) epoch=14, loss=0.0577, nat_acc1=98.4000: 100%|██████████| 100/100 [00:00<00:00, 140.24it/s]\n",
      "[T] (noise) epoch=15, loss=0.0605, nat_acc1=98.4000: 100%|██████████| 100/100 [00:00<00:00, 138.39it/s]\n",
      "[T] (noise) epoch=16, loss=0.0576, nat_acc1=98.4000: 100%|██████████| 100/100 [00:00<00:00, 139.26it/s]\n",
      "[T] (noise) epoch=17, loss=0.0581, nat_acc1=98.4000: 100%|██████████| 100/100 [00:00<00:00, 142.88it/s]\n",
      "[T] (noise) epoch=18, loss=0.0611, nat_acc1=98.4000: 100%|██████████| 100/100 [00:00<00:00, 138.88it/s]\n",
      "[T] (noise) epoch=19, loss=0.0582, nat_acc1=98.4000: 100%|██████████| 100/100 [00:00<00:00, 136.56it/s]\n"
     ]
    }
   ],
   "source": [
    "model_noise, opt, lr_scheduler = reinit_train_utils(args, device, num_classes, seed=SEED)\n",
    "loss_variant = 'noise' # choose from 'abstain' or 'noise'\n",
    "model_dir_noise = os.path.join(\n",
    "    root_dir, 'analysis', 'figures', 'revcertrad', args.dataset,\n",
    "    'L2', args.noise_sd, args.arch, 'noise'\n",
    ")\n",
    "for epoch in range(args.epochs):\n",
    "    train_iter(args, model_noise, opt, epoch, loss_variant=loss_variant)\n",
    "    lr_scheduler.step()"
   ]
  },
  {
   "cell_type": "markdown",
   "metadata": {},
   "source": [
    "### Plot the decision region of the noise trained model"
   ]
  },
  {
   "cell_type": "code",
   "execution_count": 10,
   "metadata": {},
   "outputs": [
    {
     "name": "stderr",
     "output_type": "stream",
     "text": [
      "100%|██████████| 500/500 [00:00<00:00, 3146.14it/s]"
     ]
    },
    {
     "name": "stdout",
     "output_type": "stream",
     "text": [
      "nat_acc1=98.4000, cert_acc1=98.4000, cert_inacc=1.6000, commit_prec=0.9840\n"
     ]
    },
    {
     "name": "stderr",
     "output_type": "stream",
     "text": [
      "\n",
      "100%|██████████| 1000/1000 [00:00<00:00, 3155.99it/s]\n"
     ]
    },
    {
     "data": {
      "text/plain": [
       "(Text(0.5, -0.2, '  $\\\\Phi_{rob}((F, S_{CRI}), D) = 100.0\\\\%$'),\n",
       " Text(0.5, -0.35, '$\\\\mathcal{A}_{rob}((F, S_{CRI}), D) = 98.4\\\\%$'))"
      ]
     },
     "execution_count": 10,
     "metadata": {},
     "output_type": "execute_result"
    },
    {
     "data": {
      "image/png": "[encoded data removed]",
      "text/plain": [
       "<Figure size 432x288 with 1 Axes>"
      ]
     },
     "metadata": {
      "needs_background": "light"
     },
     "output_type": "display_data"
    },
    {
     "data": {
      "image/png": "[encoded data removed]",
      "text/plain": [
       "<Figure size 432x288 with 1 Axes>"
      ]
     },
     "metadata": {},
     "output_type": "display_data"
    },
    {
     "data": {
      "image/png": "[encoded data removed]",
      "text/plain": [
       "<Figure size 432x288 with 1 Axes>"
      ]
     },
     "metadata": {},
     "output_type": "display_data"
    }
   ],
   "source": [
    "nat_acc_noise, cert_acc_noise, cert_inacc_noise, is_acc_noise, is_cert_noise, _, _ = get_acc_cert_indicator(\n",
    "    args, model_noise, model_dir=model_dir_noise, model_name='mininet', device=device, dataloader=train_loader, eval_set='train',\n",
    "    eps_str=args.train_eps, smooth=True, n_smooth_samples=len(train_loader.dataset), write_report=True\n",
    ")\n",
    "print('nat_acc1={:.4f}, cert_acc1={:.4f}, cert_inacc={:.4f}, commit_prec={:.4f}'.format(\n",
    "    nat_acc_noise, cert_acc_noise, cert_inacc_noise, cert_acc_noise / (cert_acc_noise+cert_inacc_noise))\n",
    ")\n",
    "\n",
    "# produce plot where class is indicated by color\n",
    "savepath = os.path.join(model_dir_noise, 'color', 'train_noise')\n",
    "fig, ax = decision_region_plot_2Ddata(\n",
    "    model_noise, device, data=train_loader.dataset.data, data_labels=train_loader.dataset.targets,\n",
    "    savepath=savepath, version='color', is_acc=is_acc_noise, is_rob=is_cert_noise\n",
    ")\n",
    "annotate_plot(fig, ax, cert_acc_noise, cert_inacc_noise, savepath, selector='CRI', ashift1=1, rm_annos=True, yshift1=-0.3, yshift2=-0.45)\n",
    "rmticks(ax)\n",
    "savefig(fig, savepath+'_nt')\n",
    "annotate_plot(fig, ax, cert_acc_noise, cert_inacc_noise, savepath+'_nt', selector='CRI', ashift1=1, rm_annos=True, yshift1=-0.2, yshift2=-0.35)\n",
    "\n",
    "# produce plot where class is indicated by shape\n",
    "savepath = os.path.join(model_dir_noise, 'shape', 'train_revcertrad')\n",
    "fig, ax = decision_region_plot_2Ddata(\n",
    "    model_noise, device, data=train_loader.dataset.data, data_labels=train_loader.dataset.targets,\n",
    "    savepath=savepath, version='shape', is_acc=is_acc_noise, is_rob=is_cert_noise\n",
    ")\n",
    "#NOTE: this annotates the decision surface, the coordinates are NOT adaptive and need to be set by visual inspection\n",
    "ax.annotate(text='0', xy=(0.2,0.5), xycoords='axes fraction', fontsize=21, ha='center')\n",
    "ax.annotate(text='1', xy=(0.8,0.5), xycoords='axes fraction', fontsize=21, ha='center')\n",
    "savefig(fig, savepath)\n",
    "annotate_plot(fig, ax, cert_acc_noise, cert_inacc_noise, savepath, selector='CRI', ashift1=1, rm_annos=True, yshift1=-0.3, yshift2=-0.45)\n",
    "rmticks(ax)\n",
    "savefig(fig, savepath+'_nt')\n",
    "annotate_plot(fig, ax, cert_acc_noise, cert_inacc_noise, savepath+'_nt', selector='CRI', ashift1=1, rm_annos=True, yshift1=-0.2, yshift2=-0.35)"
   ]
  },
  {
   "cell_type": "markdown",
   "metadata": {},
   "source": [
    "## Certified Robustness Indicator Abstain Training"
   ]
  },
  {
   "cell_type": "markdown",
   "metadata": {},
   "source": [
    "### Train the model using our proposed abstain training method (CRI)"
   ]
  },
  {
   "cell_type": "code",
   "execution_count": 15,
   "metadata": {},
   "outputs": [
    {
     "name": "stderr",
     "output_type": "stream",
     "text": [
      "[T] (abstain) epoch=0, loss=0.3361, nat_acc1=78.2000: 100%|██████████| 100/100 [00:00<00:00, 129.68it/s]\n",
      "[T] (abstain) epoch=1, loss=0.3114, nat_acc1=87.3000: 100%|██████████| 100/100 [00:00<00:00, 107.06it/s]\n",
      "[T] (abstain) epoch=2, loss=0.3097, nat_acc1=95.6000: 100%|██████████| 100/100 [00:00<00:00, 107.45it/s]\n",
      "[T] (abstain) epoch=3, loss=0.3094, nat_acc1=97.2000: 100%|██████████| 100/100 [00:00<00:00, 107.02it/s]\n",
      "[T] (abstain) epoch=4, loss=0.3091, nat_acc1=97.6000: 100%|██████████| 100/100 [00:00<00:00, 106.31it/s]\n",
      "[T] (abstain) epoch=5, loss=0.3108, nat_acc1=96.2000: 100%|██████████| 100/100 [00:00<00:00, 108.25it/s]\n",
      "[T] (abstain) epoch=6, loss=0.3088, nat_acc1=98.4000: 100%|██████████| 100/100 [00:00<00:00, 107.84it/s]\n",
      "[T] (abstain) epoch=7, loss=0.3087, nat_acc1=98.4000: 100%|██████████| 100/100 [00:00<00:00, 109.16it/s]\n",
      "[T] (abstain) epoch=8, loss=0.3099, nat_acc1=96.3000: 100%|██████████| 100/100 [00:00<00:00, 108.34it/s]\n",
      "[T] (abstain) epoch=9, loss=0.3100, nat_acc1=97.6000: 100%|██████████| 100/100 [00:00<00:00, 109.96it/s]\n",
      "[T] (abstain) epoch=10, loss=0.3087, nat_acc1=98.4000: 100%|██████████| 100/100 [00:00<00:00, 107.08it/s]\n",
      "[T] (abstain) epoch=11, loss=0.3095, nat_acc1=98.2000: 100%|██████████| 100/100 [00:00<00:00, 109.37it/s]\n",
      "[T] (abstain) epoch=12, loss=0.3084, nat_acc1=98.4000: 100%|██████████| 100/100 [00:00<00:00, 119.48it/s]\n",
      "[T] (abstain) epoch=13, loss=0.3096, nat_acc1=95.7000: 100%|██████████| 100/100 [00:00<00:00, 117.39it/s]\n",
      "[T] (abstain) epoch=14, loss=0.3095, nat_acc1=98.3000: 100%|██████████| 100/100 [00:00<00:00, 107.56it/s]\n",
      "[T] (abstain) epoch=15, loss=0.3076, nat_acc1=98.4000: 100%|██████████| 100/100 [00:00<00:00, 109.76it/s]\n",
      "[T] (abstain) epoch=16, loss=0.3068, nat_acc1=98.4000: 100%|██████████| 100/100 [00:00<00:00, 107.26it/s]\n",
      "[T] (abstain) epoch=17, loss=0.3069, nat_acc1=98.4000: 100%|██████████| 100/100 [00:00<00:00, 107.19it/s]\n",
      "[T] (abstain) epoch=18, loss=0.3067, nat_acc1=98.4000: 100%|██████████| 100/100 [00:00<00:00, 109.70it/s]\n",
      "[T] (abstain) epoch=19, loss=0.3066, nat_acc1=98.4000: 100%|██████████| 100/100 [00:00<00:00, 108.19it/s]\n"
     ]
    }
   ],
   "source": [
    "set_seed()\n",
    "model_revcertrad, opt, lr_scheduler = reinit_train_utils(args, device, num_classes, seed=SEED)\n",
    "loss_variant = 'abstain' # choose from 'abstain' or 'noise'\n",
    "temp = 4.0 # temperature parameter\n",
    "args.revadv_beta = 0.4\n",
    "model_dir_revcertrad = os.path.join(\n",
    "    root_dir, 'analysis', 'figures', 'revcertrad', args.dataset,\n",
    "    'L2', args.noise_sd, args.arch, f'revcertrad_{args.revadv_beta}_{SEED}'\n",
    ")\n",
    "for epoch in range(args.epochs):\n",
    "    train_iter(args, model_revcertrad, opt, epoch, args.revadv_beta, temp, loss_variant)\n",
    "    lr_scheduler.step()"
   ]
  },
  {
   "cell_type": "markdown",
   "metadata": {},
   "source": [
    "### Plot the decision region of the CRI trained model"
   ]
  },
  {
   "cell_type": "code",
   "execution_count": 16,
   "metadata": {},
   "outputs": [
    {
     "name": "stderr",
     "output_type": "stream",
     "text": [
      "100%|██████████| 500/500 [00:00<00:00, 3153.07it/s]"
     ]
    },
    {
     "name": "stdout",
     "output_type": "stream",
     "text": [
      "nat_acc1=98.4000, cert_acc1=97.5000, cert_inacc=0.0000, commit_prec=1.0000\n"
     ]
    },
    {
     "name": "stderr",
     "output_type": "stream",
     "text": [
      "\n",
      "100%|██████████| 1000/1000 [00:00<00:00, 3098.92it/s]\n"
     ]
    },
    {
     "data": {
      "text/plain": [
       "(Text(0.5, -0.2, ' $\\\\Phi_{rob}((F, S_{CRI}), D) = 97.5\\\\%$'),\n",
       " Text(0.5, -0.35, '   $\\\\mathcal{A}_{rob}((F, S_{CRI}), D) = 100.0\\\\%$'))"
      ]
     },
     "execution_count": 16,
     "metadata": {},
     "output_type": "execute_result"
    },
    {
     "data": {
      "image/png": "[encoded data removed]",
      "text/plain": [
       "<Figure size 432x288 with 1 Axes>"
      ]
     },
     "metadata": {
      "needs_background": "light"
     },
     "output_type": "display_data"
    },
    {
     "data": {
      "image/png": "[encoded data removed]",
      "text/plain": [
       "<Figure size 432x288 with 1 Axes>"
      ]
     },
     "metadata": {},
     "output_type": "display_data"
    },
    {
     "data": {
      "image/png": "[encoded data removed]",
      "text/plain": [
       "<Figure size 432x288 with 1 Axes>"
      ]
     },
     "metadata": {},
     "output_type": "display_data"
    }
   ],
   "source": [
    "nat_acc_revcertrad, cert_acc_revcertrad, cert_inacc_revcertrad, is_acc_revcertrad, is_cert_revcertrad, _, _ = get_acc_cert_indicator(\n",
    "    args, model_revcertrad, model_dir=model_dir_revcertrad, model_name='mininet', device=device, dataloader=train_loader, eval_set='train',\n",
    "    eps_str=args.train_eps, smooth=True, n_smooth_samples=len(train_loader.dataset), write_report=True\n",
    ")\n",
    "print('nat_acc1={:.4f}, cert_acc1={:.4f}, cert_inacc={:.4f}, commit_prec={:.4f}'.format(\n",
    "    nat_acc_revcertrad, cert_acc_revcertrad, cert_inacc_revcertrad, cert_acc_revcertrad / (cert_acc_revcertrad+cert_inacc_revcertrad))\n",
    ")\n",
    "\n",
    "# produce plot where class is indicated by color\n",
    "savepath = os.path.join(model_dir_revcertrad, 'color', 'train_revcertrad')\n",
    "fig, ax = decision_region_plot_2Ddata(\n",
    "    model_revcertrad, device, data=train_loader.dataset.data, data_labels=train_loader.dataset.targets,\n",
    "    savepath=savepath, version='color', is_acc=is_acc_revcertrad, is_rob=is_cert_revcertrad\n",
    ")\n",
    "annotate_plot(fig, ax, cert_acc_revcertrad, cert_inacc_revcertrad, savepath, selector='CRI', ashift2=3, rm_annos=True, yshift1=-0.3, yshift2=-0.45)\n",
    "rmticks(ax)\n",
    "savefig(fig, savepath+'_nt')\n",
    "annotate_plot(fig, ax, cert_acc_revcertrad, cert_inacc_revcertrad, savepath+'_nt', selector='CRI', ashift2=3, rm_annos=True, yshift1=-0.2, yshift2=-0.35)\n",
    "\n",
    "# produce plot where class is indicated by shape\n",
    "savepath = os.path.join(model_dir_revcertrad, 'shape', 'train_revcertrad')\n",
    "fig, ax = decision_region_plot_2Ddata(\n",
    "    model_revcertrad, device, data=train_loader.dataset.data, data_labels=train_loader.dataset.targets,\n",
    "    savepath=savepath, version='shape', is_acc=is_acc_revcertrad, is_rob=is_cert_revcertrad\n",
    ")\n",
    "#NOTE: this annotates the decision surface, the coordinates are NOT adaptive and need to be set by visual inspection\n",
    "ax.annotate(text='0', xy=(0.2,0.5), xycoords='axes fraction', fontsize=21, ha='center')\n",
    "ax.annotate(text='1', xy=(0.8,0.5), xycoords='axes fraction', fontsize=21, ha='center')\n",
    "savefig(fig, savepath)\n",
    "annotate_plot(fig, ax, cert_acc_revcertrad, cert_inacc_revcertrad, savepath, selector=\"CRI\", ashift2=3, rm_annos=True, yshift1=-0.3, yshift2=-0.45)\n",
    "rmticks(ax)\n",
    "savefig(fig, savepath+'_nt')\n",
    "annotate_plot(fig, ax, cert_acc_revcertrad, cert_inacc_revcertrad, savepath+'_nt', selector='CRI', ashift2=3, rm_annos=True, yshift1=-0.2, yshift2=-0.35)"
   ]
  },
  {
   "cell_type": "markdown",
   "metadata": {},
   "source": [
    "## Joint Plot"
   ]
  },
  {
   "cell_type": "code",
   "execution_count": 17,
   "metadata": {},
   "outputs": [
    {
     "name": "stderr",
     "output_type": "stream",
     "text": [
      "100%|██████████| 1000/1000 [00:00<00:00, 2974.12it/s]\n",
      "100%|██████████| 1000/1000 [00:00<00:00, 3035.28it/s]\n"
     ]
    },
    {
     "data": {
      "image/png": "[encoded data removed]",
      "text/plain": [
       "<Figure size 1008x288 with 2 Axes>"
      ]
     },
     "metadata": {},
     "output_type": "display_data"
    }
   ],
   "source": [
    "fig, axs = plt.subplots(nrows=1, ncols=2)\n",
    "fig.tight_layout()\n",
    "plot_width, plot_height = 14, 4\n",
    "fig.set_size_inches(plot_width, plot_height)\n",
    "fig.subplots_adjust(wspace=0.2, hspace=0.2)\n",
    "subtitle_fontsize = 21\n",
    "model_dir_joint = os.path.join(\n",
    "    root_dir, 'analysis', 'figures', 'revcertrad', args.dataset,\n",
    "    'L2', args.noise_sd, args.arch\n",
    ")\n",
    "    \n",
    "# plot std trained model\n",
    "ax_idx = 0\n",
    "decision_region_plot_2Ddata(\n",
    "    model_noise, device, data=train_loader.dataset.data, data_labels=train_loader.dataset.targets,\n",
    "    savepath=savepath, version='shape', is_acc=is_acc_noise, is_rob=is_cert_noise, ax=axs[ax_idx]\n",
    ")\n",
    "axs[ax_idx].set_title(r\"$\\mathcal{L}_{noise}$\", fontsize=subtitle_fontsize)\n",
    "#NOTE: this annotates the decision surface, the coordinates are NOT adaptive and need to be set by visual inspection\n",
    "axs[ax_idx].annotate(text='0', xy=(0.2,0.5), xycoords='axes fraction', fontsize=21, ha='center')\n",
    "axs[ax_idx].annotate(text='1', xy=(0.8,0.5), xycoords='axes fraction', fontsize=21, ha='center')\n",
    "\n",
    "# plot mrevadv trained model\n",
    "ax_idx = 1\n",
    "decision_region_plot_2Ddata(\n",
    "    model_revcertrad, device, data=train_loader.dataset.data, data_labels=train_loader.dataset.targets,\n",
    "    savepath=savepath, version='shape', is_acc=is_acc_revcertrad, is_rob=is_cert_revcertrad, ax=axs[ax_idx]\n",
    ")\n",
    "axs[ax_idx].set_title(r\"$\\mathcal{L}_{CRA}$ (ours)\", fontsize=subtitle_fontsize)\n",
    "#NOTE: this annotates the decision surface, the coordinates are NOT adaptive and need to be set by visual inspection\n",
    "axs[ax_idx].annotate(text='0', xy=(0.2,0.5), xycoords='axes fraction', fontsize=21, ha='center')\n",
    "axs[ax_idx].annotate(text='1', xy=(0.8,0.5), xycoords='axes fraction', fontsize=21, ha='center')\n",
    "\n",
    "# create legend\n",
    "annos = [('ra', 'robust & accurate'), ('nra', 'non-robust & accurate'), ('ria', 'robust & inaccurate'), ('nria', 'non-robust & inaccurate')]\n",
    "fig_leg = fig.legend(\n",
    "    [mpatches.Patch(color=ROBACC_COLORS[anno[0]]) for anno in annos],\n",
    "    [anno[1] for anno in annos],\n",
    "    loc='upper center', bbox_to_anchor=(0.5175, 1.2), prop={'size': 15}, ncol=4\n",
    ")\n",
    "\n",
    "# save figure\n",
    "savepath = os.path.join(model_dir_joint, 'train_joint')\n",
    "addticks(axs)\n",
    "savefig(fig, savepath)\n",
    "addticks(ax, step=1.0)\n",
    "savefig(fig, savepath+'_lt')\n",
    "rmticks(axs)\n",
    "savefig(fig, savepath+'_nt')\n",
    "\n",
    "# add accuracy annotations\n",
    "anno_fontsize = 25\n",
    "addticks(axs)\n",
    "anno_noise1, anno_noise2 = annotate_plot(fig, axs[0], cert_acc_noise, cert_inacc_noise, savepath=None, fontsize=anno_fontsize, ashift1=1, rm_annos=False, yshift1=-0.25, yshift2=-0.4)\n",
    "annotate_plot(fig, axs[1], cert_acc_revcertrad, cert_inacc_revcertrad, savepath, fontsize=anno_fontsize, ashift2=3, rm_annos=True, yshift1=-0.25, yshift2=-0.4)\n",
    "anno_noise1.remove()\n",
    "anno_noise2.remove()\n",
    "color_leg0 = colorblob_metric_legend(axs[0], nat_acc_noise, cert_acc_noise, cert_inacc_noise, yshift=-0.4)\n",
    "color_leg1 = colorblob_metric_legend(axs[1], nat_acc_revcertrad, cert_acc_revcertrad, cert_inacc_revcertrad, yshift=-0.4)\n",
    "# matplotlib removes old legend once new legend is plotted\n",
    "readd_class_legend(axs[0])\n",
    "readd_class_legend(axs[1])\n",
    "axs[0].add_artist(color_leg0)\n",
    "axs[1].add_artist(color_leg1)\n",
    "savefig(fig, savepath+'_coloranno')\n",
    "rmlegend(axs)\n",
    "color_leg0.remove()\n",
    "color_leg1.remove()\n",
    "\n",
    "addticks(axs, step=1.0)\n",
    "readd_class_legend(axs[0])\n",
    "readd_class_legend(axs[1])\n",
    "anno_noise1, anno_noise2 = annotate_plot(fig, axs[0], cert_acc_noise, cert_inacc_noise, savepath=None, fontsize=anno_fontsize, ashift1=1, rm_annos=False, yshift1=-0.25, yshift2=-0.35)\n",
    "annotate_plot(fig, axs[1], cert_acc_revcertrad, cert_inacc_revcertrad, savepath+'_lt', fontsize=anno_fontsize, ashift2=3, rm_annos=True, yshift1=-0.25, yshift2=-0.35)\n",
    "anno_noise1.remove()\n",
    "anno_noise2.remove()\n",
    "color_leg0 = colorblob_metric_legend(axs[0], nat_acc_noise, cert_acc_noise, cert_inacc_noise, yshift=-0.4)\n",
    "color_leg1 = colorblob_metric_legend(axs[1], nat_acc_revcertrad, cert_acc_revcertrad, cert_inacc_revcertrad, yshift=-0.4)\n",
    "# matplotlib removes old legend once new legend is plotted\n",
    "readd_class_legend(axs[0])\n",
    "readd_class_legend(axs[1])\n",
    "axs[0].add_artist(color_leg0)\n",
    "axs[1].add_artist(color_leg1)\n",
    "savefig(fig, savepath+'_lt_coloranno')\n",
    "rmlegend(axs)\n",
    "\n",
    "rmticks(axs)\n",
    "readd_class_legend(axs[0])\n",
    "readd_class_legend(axs[1])\n",
    "anno_noise1, anno_noise2 = annotate_plot(fig, axs[0], cert_acc_noise, cert_inacc_noise, savepath=None, fontsize=anno_fontsize, ashift1=1, rm_annos=False, yshift1=-0.2, yshift2=-0.3)\n",
    "annotate_plot(fig, axs[1], cert_acc_revcertrad, cert_inacc_revcertrad, savepath+'_nt', fontsize=anno_fontsize, ashift2=3, rm_annos=True, yshift1=-0.2, yshift2=-0.3)\n",
    "anno_noise1.remove()\n",
    "anno_noise2.remove()\n",
    "color_leg0 = colorblob_metric_legend(axs[0], nat_acc_noise, cert_acc_noise, cert_inacc_noise, yshift=-0.4)\n",
    "color_leg1 = colorblob_metric_legend(axs[1], nat_acc_revcertrad, cert_acc_revcertrad, cert_inacc_revcertrad, yshift=-0.4)\n",
    "# matplotlib removes old legend once new legend is plotted\n",
    "readd_class_legend(axs[0])\n",
    "readd_class_legend(axs[1])\n",
    "axs[0].add_artist(color_leg0)\n",
    "axs[1].add_artist(color_leg1)\n",
    "savefig(fig, savepath+'_nt_coloranno')\n",
    "rmlegend(axs)"
   ]
  }
 ],
 "metadata": {
  "kernelspec": {
   "display_name": "robust-abstain",
   "language": "python",
   "name": "robust-abstain"
  },
  "language_info": {
   "codemirror_mode": {
    "name": "ipython",
    "version": 3
   },
   "file_extension": ".py",
   "mimetype": "text/x-python",
   "name": "python",
   "nbconvert_exporter": "python",
   "pygments_lexer": "ipython3",
   "version": "3.8.10"
  }
 },
 "nbformat": 4,
 "nbformat_minor": 4
}
